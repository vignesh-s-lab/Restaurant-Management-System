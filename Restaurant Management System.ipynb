{
 "cells": [
  {
   "cell_type": "markdown",
   "id": "5184ac48-6c3d-470f-9b4c-911fae20aca3",
   "metadata": {},
   "source": [
    " ## Restaurant Management System"
   ]
  },
  {
   "cell_type": "markdown",
   "id": "8a9dd25d-2b13-4ce4-8f6e-8594280739ef",
   "metadata": {},
   "source": []
  },
  {
   "cell_type": "code",
   "execution_count": 9,
   "id": "a3f3f2c0-8fa4-4668-9753-21f4ee618953",
   "metadata": {},
   "outputs": [
    {
     "name": "stdout",
     "output_type": "stream",
     "text": [
      "\n",
      "       SAI RESTAURANT      \n",
      "----------------------------\n",
      "\n",
      " 1. Show Menu\n",
      " 2. Place Order\n",
      " 3. View Orders\n",
      " 4. Exit\n"
     ]
    },
    {
     "name": "stdin",
     "output_type": "stream",
     "text": [
      "Enter your choice:  1\n"
     ]
    },
    {
     "name": "stdout",
     "output_type": "stream",
     "text": [
      "\n",
      "Menu:\n",
      "Sambar rice (Veg): rs;70.00\n",
      "curd rice (Veg): rs;40.00\n",
      "tomato rice (Veg): rs;40.00\n",
      "potato fry (Veg): rs;20.00\n",
      "Chiken Briyani (Non-Veg): rs;130.00\n",
      "Mutton Briyani (Non-Veg): rs;280.00\n",
      "Chiken Curry (Non-Veg): rs;110.00\n",
      "Mutton Curry (Non-Veg): rs;190.00\n",
      "\n",
      " 1. Show Menu\n",
      " 2. Place Order\n",
      " 3. View Orders\n",
      " 4. Exit\n"
     ]
    },
    {
     "name": "stdin",
     "output_type": "stream",
     "text": [
      "Enter your choice:  2\n",
      "Enter the name of the item to order:  sambar rice\n",
      "Enter quantity:  2\n"
     ]
    },
    {
     "name": "stdout",
     "output_type": "stream",
     "text": [
      "Order placed: 2 x Sambar rice - Total: rs;140.00\n",
      "\n",
      " 1. Show Menu\n",
      " 2. Place Order\n",
      " 3. View Orders\n",
      " 4. Exit\n"
     ]
    },
    {
     "name": "stdin",
     "output_type": "stream",
     "text": [
      "Enter your choice:  2\n",
      "Enter the name of the item to order:  curd rice\n",
      "Enter quantity:  2\n"
     ]
    },
    {
     "name": "stdout",
     "output_type": "stream",
     "text": [
      "Order placed: 2 x curd rice - Total: rs;80.00\n",
      "\n",
      " 1. Show Menu\n",
      " 2. Place Order\n",
      " 3. View Orders\n",
      " 4. Exit\n"
     ]
    },
    {
     "name": "stdin",
     "output_type": "stream",
     "text": [
      "Enter your choice:  3\n"
     ]
    },
    {
     "name": "stdout",
     "output_type": "stream",
     "text": [
      "\n",
      "Order Summary:\n",
      "2 x Sambar rice - Total: rs;140.00\n",
      "2 x curd rice - Total: rs;80.00\n",
      "\n",
      " 1. Show Menu\n",
      " 2. Place Order\n",
      " 3. View Orders\n",
      " 4. Exit\n"
     ]
    },
    {
     "name": "stdin",
     "output_type": "stream",
     "text": [
      "Enter your choice:  4\n"
     ]
    },
    {
     "name": "stdout",
     "output_type": "stream",
     "text": [
      "\n",
      "Order Summary:\n",
      "2 x Sambar rice - Total: rs;140.00\n",
      "2 x curd rice - Total: rs;80.00\n",
      "Exiting the Restaurant Management System.\n"
     ]
    }
   ],
   "source": [
    "class MenuItem:               #class representing a menu item\n",
    "    def __init__(self, name, price, category):           #The constructor method initializes new MenuItem object \n",
    "        self.name = name\n",
    "        self.price = price  # Price in rs;\n",
    "        self.category = category  # 'Veg' or 'Non-Veg'\n",
    "\n",
    "    def __str__(self):\n",
    "        return f\"{self.name} ({self.category}): rs;{self.price:.2f}\"\n",
    "\n",
    "class Restaurant:\n",
    "    def __init__(self):\n",
    "        self.menu = []\n",
    "        self.orders = []\n",
    "\n",
    "    def add_menu_item(self, item):\n",
    "        self.menu.append(item)\n",
    "\n",
    "    def show_menu(self):\n",
    "        print(\"\\nMenu:\")\n",
    "        for item in self.menu:\n",
    "            print(item)\n",
    "\n",
    "    def place_order(self, item_name, quantity):\n",
    "        for item in self.menu:\n",
    "            if item.name.lower() == item_name.lower():\n",
    "                total_price = item.price * quantity\n",
    "                order_details = {\n",
    "                    'item': item,\n",
    "                    'quantity': quantity,\n",
    "                    'total_price': total_price\n",
    "                }\n",
    "                self.orders.append(order_details)\n",
    "                print(f\"Order placed: {quantity} x {item.name} - Total: rs;{total_price:.2f}\")\n",
    "                return\n",
    "        print(\"Item not found in the menu.\")      # item that is not in the menu(Item Not Found:)\n",
    "\n",
    "    def view_orders(self):\n",
    "        if not self.orders:\n",
    "            print(\"No orders placed yet.\")\n",
    "            return\n",
    "        print(\"\\nOrder Summary:\")\n",
    "        for order in self.orders:\n",
    "            item = order['item']\n",
    "            quantity = order['quantity']\n",
    "            total_price = order['total_price']\n",
    "            print(f\"{quantity} x {item.name} - Total: rs;{total_price:.2f}\")\n",
    "\n",
    "# Restaurant's name\n",
    "print('\\n',\"      SAI RESTAURANT      \")\n",
    "print(\"----------------------------\")\n",
    "\n",
    "def main():\n",
    "    restaurant = Restaurant()\n",
    "    \n",
    "    # Adding menu items    \n",
    "    restaurant.add_menu_item(MenuItem(\"Sambar rice\", 70, \"Veg\"))\n",
    "    restaurant.add_menu_item(MenuItem(\"curd rice\", 40, \"Veg\"))\n",
    "    restaurant.add_menu_item(MenuItem(\"tomato rice\", 40, \"Veg\"))\n",
    "    restaurant.add_menu_item(MenuItem(\"potato fry\", 20, \"Veg\"))\n",
    "    \n",
    "    restaurant.add_menu_item(MenuItem(\"Chiken Briyani\", 130, \"Non-Veg\"))\n",
    "    restaurant.add_menu_item(MenuItem(\"Mutton Briyani\", 280, \"Non-Veg\"))\n",
    "    restaurant.add_menu_item(MenuItem(\"Chiken Curry\", 110, \"Non-Veg\"))\n",
    "    restaurant.add_menu_item(MenuItem(\"Mutton Curry\", 190, \"Non-Veg\"))\n",
    "\n",
    "    while True:\n",
    "        print(\"\\n 1. Show Menu\\n 2. Place Order\\n 3. View Orders\\n 4. Exit\")\n",
    "        choice = input(\"Enter your choice: \")\n",
    "\n",
    "        if choice == '1':\n",
    "            restaurant.show_menu()\n",
    "\n",
    "        elif choice == '2':\n",
    "            item_name = input(\"Enter the name of the item to order: \")\n",
    "            quantity_input = input(\"Enter quantity: \")\n",
    "            \n",
    "            try:                                                           #Starts a block to catch exceptions.\n",
    "                quantity = int(quantity_input)\n",
    "                if quantity <= 0:                     #entered quantity is less than or equal to zero(Negative or Zero Quantity)\n",
    "                    print(\"Quantity must be a positive number.\")\n",
    "                    continue\n",
    "                restaurant.place_order(item_name, quantity)\n",
    "            except ValueError:                     #Catches any conversion errors\n",
    "                print(\"Invalid input for quantity. Please enter a valid number.\")    # if ValueError is raised.(Invalid Quantity Input:)\n",
    "\n",
    "        elif choice == '3':\n",
    "            restaurant.view_orders()\n",
    "\n",
    "        elif choice == '4':\n",
    "            restaurant.view_orders()\n",
    "            print(\"Exiting the Restaurant Management System.\")\n",
    "            break\n",
    "\n",
    "        else:\n",
    "            print(\"Invalid choice. Please try again.\") # a letter or a number not listed(Handling Invalid Menu Choices:)\n",
    "\n",
    "if __name__ == \"__main__\":                 #runs only if the script is executed directly\n",
    "    main()"
   ]
  },
  {
   "cell_type": "code",
   "execution_count": null,
   "id": "1f352e9d-72d4-4a76-bdfa-1551639fe965",
   "metadata": {},
   "outputs": [],
   "source": []
  }
 ],
 "metadata": {
  "kernelspec": {
   "display_name": "Python 3 (ipykernel)",
   "language": "python",
   "name": "python3"
  },
  "language_info": {
   "codemirror_mode": {
    "name": "ipython",
    "version": 3
   },
   "file_extension": ".py",
   "mimetype": "text/x-python",
   "name": "python",
   "nbconvert_exporter": "python",
   "pygments_lexer": "ipython3",
   "version": "3.12.4"
  }
 },
 "nbformat": 4,
 "nbformat_minor": 5
}
